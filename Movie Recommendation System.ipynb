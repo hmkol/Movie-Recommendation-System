{
  "cells": [
    {
      "cell_type": "markdown",
      "metadata": {
        "id": "view-in-github",
        "colab_type": "text"
      },
      "source": [
        "<a href=\"https://colab.research.google.com/github/hmkol/Movie-Recommendation-System/blob/main/Project.ipynb\" target=\"_parent\"><img src=\"https://colab.research.google.com/assets/colab-badge.svg\" alt=\"Open In Colab\"/></a>"
      ]
    },
    {
      "cell_type": "markdown",
      "id": "12ccea6e-8eca-4338-935b-8cfe0ca5a01e",
      "metadata": {
        "id": "12ccea6e-8eca-4338-935b-8cfe0ca5a01e"
      },
      "source": [
        "## Data Preprocessing"
      ]
    },
    {
      "cell_type": "markdown",
      "id": "081bde21-1cb9-4478-8576-5a05319fe51f",
      "metadata": {
        "id": "081bde21-1cb9-4478-8576-5a05319fe51f"
      },
      "source": [
        "### Loading the data"
      ]
    },
    {
      "cell_type": "code",
      "execution_count": null,
      "id": "46e8f3e1-717f-4c2a-b8b6-d34c1c2999b1",
      "metadata": {
        "id": "46e8f3e1-717f-4c2a-b8b6-d34c1c2999b1"
      },
      "outputs": [],
      "source": [
        "import pandas as pd\n",
        "\n",
        "movies = pd.read_csv(r\"D:\\movies.csv\")\n",
        "ratings = pd.read_csv(r\"D:\\ratings.csv\")"
      ]
    },
    {
      "cell_type": "code",
      "execution_count": null,
      "id": "f09e35e7-4cbd-4fc8-8dec-2c4fb9075570",
      "metadata": {
        "id": "f09e35e7-4cbd-4fc8-8dec-2c4fb9075570",
        "outputId": "e335238a-4f40-4947-a0e4-0d99142ba72b"
      },
      "outputs": [
        {
          "data": {
            "text/html": [
              "<div>\n",
              "<style scoped>\n",
              "    .dataframe tbody tr th:only-of-type {\n",
              "        vertical-align: middle;\n",
              "    }\n",
              "\n",
              "    .dataframe tbody tr th {\n",
              "        vertical-align: top;\n",
              "    }\n",
              "\n",
              "    .dataframe thead th {\n",
              "        text-align: right;\n",
              "    }\n",
              "</style>\n",
              "<table border=\"1\" class=\"dataframe\">\n",
              "  <thead>\n",
              "    <tr style=\"text-align: right;\">\n",
              "      <th></th>\n",
              "      <th>movieId</th>\n",
              "      <th>title</th>\n",
              "      <th>genres</th>\n",
              "    </tr>\n",
              "  </thead>\n",
              "  <tbody>\n",
              "    <tr>\n",
              "      <th>0</th>\n",
              "      <td>1</td>\n",
              "      <td>Toy Story (1995)</td>\n",
              "      <td>Adventure|Animation|Children|Comedy|Fantasy</td>\n",
              "    </tr>\n",
              "    <tr>\n",
              "      <th>1</th>\n",
              "      <td>2</td>\n",
              "      <td>Jumanji (1995)</td>\n",
              "      <td>Adventure|Children|Fantasy</td>\n",
              "    </tr>\n",
              "    <tr>\n",
              "      <th>2</th>\n",
              "      <td>3</td>\n",
              "      <td>Grumpier Old Men (1995)</td>\n",
              "      <td>Comedy|Romance</td>\n",
              "    </tr>\n",
              "    <tr>\n",
              "      <th>3</th>\n",
              "      <td>4</td>\n",
              "      <td>Waiting to Exhale (1995)</td>\n",
              "      <td>Comedy|Drama|Romance</td>\n",
              "    </tr>\n",
              "    <tr>\n",
              "      <th>4</th>\n",
              "      <td>5</td>\n",
              "      <td>Father of the Bride Part II (1995)</td>\n",
              "      <td>Comedy</td>\n",
              "    </tr>\n",
              "    <tr>\n",
              "      <th>5</th>\n",
              "      <td>6</td>\n",
              "      <td>Heat (1995)</td>\n",
              "      <td>Action|Crime|Thriller</td>\n",
              "    </tr>\n",
              "    <tr>\n",
              "      <th>6</th>\n",
              "      <td>7</td>\n",
              "      <td>Sabrina (1995)</td>\n",
              "      <td>Comedy|Romance</td>\n",
              "    </tr>\n",
              "    <tr>\n",
              "      <th>7</th>\n",
              "      <td>8</td>\n",
              "      <td>Tom and Huck (1995)</td>\n",
              "      <td>Adventure|Children</td>\n",
              "    </tr>\n",
              "    <tr>\n",
              "      <th>8</th>\n",
              "      <td>9</td>\n",
              "      <td>Sudden Death (1995)</td>\n",
              "      <td>Action</td>\n",
              "    </tr>\n",
              "    <tr>\n",
              "      <th>9</th>\n",
              "      <td>10</td>\n",
              "      <td>GoldenEye (1995)</td>\n",
              "      <td>Action|Adventure|Thriller</td>\n",
              "    </tr>\n",
              "  </tbody>\n",
              "</table>\n",
              "</div>"
            ],
            "text/plain": [
              "   movieId                               title  \\\n",
              "0        1                    Toy Story (1995)   \n",
              "1        2                      Jumanji (1995)   \n",
              "2        3             Grumpier Old Men (1995)   \n",
              "3        4            Waiting to Exhale (1995)   \n",
              "4        5  Father of the Bride Part II (1995)   \n",
              "5        6                         Heat (1995)   \n",
              "6        7                      Sabrina (1995)   \n",
              "7        8                 Tom and Huck (1995)   \n",
              "8        9                 Sudden Death (1995)   \n",
              "9       10                    GoldenEye (1995)   \n",
              "\n",
              "                                        genres  \n",
              "0  Adventure|Animation|Children|Comedy|Fantasy  \n",
              "1                   Adventure|Children|Fantasy  \n",
              "2                               Comedy|Romance  \n",
              "3                         Comedy|Drama|Romance  \n",
              "4                                       Comedy  \n",
              "5                        Action|Crime|Thriller  \n",
              "6                               Comedy|Romance  \n",
              "7                           Adventure|Children  \n",
              "8                                       Action  \n",
              "9                    Action|Adventure|Thriller  "
            ]
          },
          "execution_count": 246,
          "metadata": {},
          "output_type": "execute_result"
        }
      ],
      "source": [
        "movies.head(10)"
      ]
    },
    {
      "cell_type": "code",
      "execution_count": null,
      "id": "fe67ae69-0ab1-4d96-a286-0f419d179b7d",
      "metadata": {
        "id": "fe67ae69-0ab1-4d96-a286-0f419d179b7d",
        "outputId": "632eb677-12b5-4f2b-ea0b-2bf4fed89867"
      },
      "outputs": [
        {
          "data": {
            "text/html": [
              "<div>\n",
              "<style scoped>\n",
              "    .dataframe tbody tr th:only-of-type {\n",
              "        vertical-align: middle;\n",
              "    }\n",
              "\n",
              "    .dataframe tbody tr th {\n",
              "        vertical-align: top;\n",
              "    }\n",
              "\n",
              "    .dataframe thead th {\n",
              "        text-align: right;\n",
              "    }\n",
              "</style>\n",
              "<table border=\"1\" class=\"dataframe\">\n",
              "  <thead>\n",
              "    <tr style=\"text-align: right;\">\n",
              "      <th></th>\n",
              "      <th>userId</th>\n",
              "      <th>movieId</th>\n",
              "      <th>rating</th>\n",
              "      <th>timestamp</th>\n",
              "    </tr>\n",
              "  </thead>\n",
              "  <tbody>\n",
              "    <tr>\n",
              "      <th>0</th>\n",
              "      <td>1</td>\n",
              "      <td>296</td>\n",
              "      <td>5.0</td>\n",
              "      <td>1147880044</td>\n",
              "    </tr>\n",
              "    <tr>\n",
              "      <th>1</th>\n",
              "      <td>1</td>\n",
              "      <td>306</td>\n",
              "      <td>3.5</td>\n",
              "      <td>1147868817</td>\n",
              "    </tr>\n",
              "    <tr>\n",
              "      <th>2</th>\n",
              "      <td>1</td>\n",
              "      <td>307</td>\n",
              "      <td>5.0</td>\n",
              "      <td>1147868828</td>\n",
              "    </tr>\n",
              "    <tr>\n",
              "      <th>3</th>\n",
              "      <td>1</td>\n",
              "      <td>665</td>\n",
              "      <td>5.0</td>\n",
              "      <td>1147878820</td>\n",
              "    </tr>\n",
              "    <tr>\n",
              "      <th>4</th>\n",
              "      <td>1</td>\n",
              "      <td>899</td>\n",
              "      <td>3.5</td>\n",
              "      <td>1147868510</td>\n",
              "    </tr>\n",
              "    <tr>\n",
              "      <th>5</th>\n",
              "      <td>1</td>\n",
              "      <td>1088</td>\n",
              "      <td>4.0</td>\n",
              "      <td>1147868495</td>\n",
              "    </tr>\n",
              "    <tr>\n",
              "      <th>6</th>\n",
              "      <td>1</td>\n",
              "      <td>1175</td>\n",
              "      <td>3.5</td>\n",
              "      <td>1147868826</td>\n",
              "    </tr>\n",
              "    <tr>\n",
              "      <th>7</th>\n",
              "      <td>1</td>\n",
              "      <td>1217</td>\n",
              "      <td>3.5</td>\n",
              "      <td>1147878326</td>\n",
              "    </tr>\n",
              "    <tr>\n",
              "      <th>8</th>\n",
              "      <td>1</td>\n",
              "      <td>1237</td>\n",
              "      <td>5.0</td>\n",
              "      <td>1147868839</td>\n",
              "    </tr>\n",
              "    <tr>\n",
              "      <th>9</th>\n",
              "      <td>1</td>\n",
              "      <td>1250</td>\n",
              "      <td>4.0</td>\n",
              "      <td>1147868414</td>\n",
              "    </tr>\n",
              "  </tbody>\n",
              "</table>\n",
              "</div>"
            ],
            "text/plain": [
              "   userId  movieId  rating   timestamp\n",
              "0       1      296     5.0  1147880044\n",
              "1       1      306     3.5  1147868817\n",
              "2       1      307     5.0  1147868828\n",
              "3       1      665     5.0  1147878820\n",
              "4       1      899     3.5  1147868510\n",
              "5       1     1088     4.0  1147868495\n",
              "6       1     1175     3.5  1147868826\n",
              "7       1     1217     3.5  1147878326\n",
              "8       1     1237     5.0  1147868839\n",
              "9       1     1250     4.0  1147868414"
            ]
          },
          "execution_count": 248,
          "metadata": {},
          "output_type": "execute_result"
        }
      ],
      "source": [
        "ratings.head(10)"
      ]
    },
    {
      "cell_type": "markdown",
      "id": "8d1fbff0-c90b-49e9-8f4a-2d13d4c6ce9e",
      "metadata": {
        "id": "8d1fbff0-c90b-49e9-8f4a-2d13d4c6ce9e"
      },
      "source": [
        "### Handling missing values"
      ]
    },
    {
      "cell_type": "code",
      "execution_count": null,
      "id": "4a0d1bf6-1f5e-4bc8-b463-97fcc7018995",
      "metadata": {
        "id": "4a0d1bf6-1f5e-4bc8-b463-97fcc7018995",
        "outputId": "3fdbc895-3740-4dc1-ec50-4a43397cb497"
      },
      "outputs": [
        {
          "name": "stdout",
          "output_type": "stream",
          "text": [
            "Missing values in movies dataset:\n",
            "movieId    0\n",
            "title      0\n",
            "genres     0\n",
            "dtype: int64\n",
            "\n",
            "Missing values in ratings dataset:\n",
            "userId       0\n",
            "movieId      0\n",
            "rating       0\n",
            "timestamp    0\n",
            "dtype: int64\n"
          ]
        }
      ],
      "source": [
        "print(\"Missing values in movies dataset:\")\n",
        "print(movies.isnull().sum())\n",
        "\n",
        "print(\"\\nMissing values in ratings dataset:\")\n",
        "print(ratings.isnull().sum())"
      ]
    },
    {
      "cell_type": "code",
      "execution_count": null,
      "id": "27b1d2ab-9cf1-4296-9c43-a7c8fe2333c5",
      "metadata": {
        "id": "27b1d2ab-9cf1-4296-9c43-a7c8fe2333c5"
      },
      "outputs": [],
      "source": [
        "movies['genres'] = movies['genres'].apply(lambda x: x.split('|'))\n",
        "\n",
        "ratings = ratings.head(100000)"
      ]
    },
    {
      "cell_type": "markdown",
      "id": "9f31c617-0db8-4f40-b6b0-6cca81b81122",
      "metadata": {
        "id": "9f31c617-0db8-4f40-b6b0-6cca81b81122"
      },
      "source": [
        "### Merging the datasets and parsing the genres"
      ]
    },
    {
      "cell_type": "code",
      "execution_count": null,
      "id": "a8e97194-016a-4740-b9ef-3ce318b31c89",
      "metadata": {
        "id": "a8e97194-016a-4740-b9ef-3ce318b31c89"
      },
      "outputs": [],
      "source": [
        "merged = pd.merge(ratings, movies, on='movieId')"
      ]
    },
    {
      "cell_type": "code",
      "execution_count": null,
      "id": "6e17d145-a9be-45f8-a51a-b983265f4a8c",
      "metadata": {
        "id": "6e17d145-a9be-45f8-a51a-b983265f4a8c",
        "outputId": "30ef52f3-e9e2-49ab-c8ef-cf8af58f3274"
      },
      "outputs": [
        {
          "data": {
            "text/html": [
              "<div>\n",
              "<style scoped>\n",
              "    .dataframe tbody tr th:only-of-type {\n",
              "        vertical-align: middle;\n",
              "    }\n",
              "\n",
              "    .dataframe tbody tr th {\n",
              "        vertical-align: top;\n",
              "    }\n",
              "\n",
              "    .dataframe thead th {\n",
              "        text-align: right;\n",
              "    }\n",
              "</style>\n",
              "<table border=\"1\" class=\"dataframe\">\n",
              "  <thead>\n",
              "    <tr style=\"text-align: right;\">\n",
              "      <th></th>\n",
              "      <th>userId</th>\n",
              "      <th>movieId</th>\n",
              "      <th>rating</th>\n",
              "      <th>timestamp</th>\n",
              "      <th>title</th>\n",
              "      <th>genres</th>\n",
              "    </tr>\n",
              "  </thead>\n",
              "  <tbody>\n",
              "    <tr>\n",
              "      <th>0</th>\n",
              "      <td>1</td>\n",
              "      <td>296</td>\n",
              "      <td>5.0</td>\n",
              "      <td>1147880044</td>\n",
              "      <td>Pulp Fiction (1994)</td>\n",
              "      <td>[Comedy, Crime, Drama, Thriller]</td>\n",
              "    </tr>\n",
              "    <tr>\n",
              "      <th>1</th>\n",
              "      <td>1</td>\n",
              "      <td>306</td>\n",
              "      <td>3.5</td>\n",
              "      <td>1147868817</td>\n",
              "      <td>Three Colors: Red (Trois couleurs: Rouge) (1994)</td>\n",
              "      <td>[Drama]</td>\n",
              "    </tr>\n",
              "    <tr>\n",
              "      <th>2</th>\n",
              "      <td>1</td>\n",
              "      <td>307</td>\n",
              "      <td>5.0</td>\n",
              "      <td>1147868828</td>\n",
              "      <td>Three Colors: Blue (Trois couleurs: Bleu) (1993)</td>\n",
              "      <td>[Drama]</td>\n",
              "    </tr>\n",
              "    <tr>\n",
              "      <th>3</th>\n",
              "      <td>1</td>\n",
              "      <td>665</td>\n",
              "      <td>5.0</td>\n",
              "      <td>1147878820</td>\n",
              "      <td>Underground (1995)</td>\n",
              "      <td>[Comedy, Drama, War]</td>\n",
              "    </tr>\n",
              "    <tr>\n",
              "      <th>4</th>\n",
              "      <td>1</td>\n",
              "      <td>899</td>\n",
              "      <td>3.5</td>\n",
              "      <td>1147868510</td>\n",
              "      <td>Singin' in the Rain (1952)</td>\n",
              "      <td>[Comedy, Musical, Romance]</td>\n",
              "    </tr>\n",
              "    <tr>\n",
              "      <th>5</th>\n",
              "      <td>1</td>\n",
              "      <td>1088</td>\n",
              "      <td>4.0</td>\n",
              "      <td>1147868495</td>\n",
              "      <td>Dirty Dancing (1987)</td>\n",
              "      <td>[Drama, Musical, Romance]</td>\n",
              "    </tr>\n",
              "    <tr>\n",
              "      <th>6</th>\n",
              "      <td>1</td>\n",
              "      <td>1175</td>\n",
              "      <td>3.5</td>\n",
              "      <td>1147868826</td>\n",
              "      <td>Delicatessen (1991)</td>\n",
              "      <td>[Comedy, Drama, Romance]</td>\n",
              "    </tr>\n",
              "    <tr>\n",
              "      <th>7</th>\n",
              "      <td>1</td>\n",
              "      <td>1217</td>\n",
              "      <td>3.5</td>\n",
              "      <td>1147878326</td>\n",
              "      <td>Ran (1985)</td>\n",
              "      <td>[Drama, War]</td>\n",
              "    </tr>\n",
              "    <tr>\n",
              "      <th>8</th>\n",
              "      <td>1</td>\n",
              "      <td>1237</td>\n",
              "      <td>5.0</td>\n",
              "      <td>1147868839</td>\n",
              "      <td>Seventh Seal, The (Sjunde inseglet, Det) (1957)</td>\n",
              "      <td>[Drama]</td>\n",
              "    </tr>\n",
              "    <tr>\n",
              "      <th>9</th>\n",
              "      <td>1</td>\n",
              "      <td>1250</td>\n",
              "      <td>4.0</td>\n",
              "      <td>1147868414</td>\n",
              "      <td>Bridge on the River Kwai, The (1957)</td>\n",
              "      <td>[Adventure, Drama, War]</td>\n",
              "    </tr>\n",
              "  </tbody>\n",
              "</table>\n",
              "</div>"
            ],
            "text/plain": [
              "   userId  movieId  rating   timestamp  \\\n",
              "0       1      296     5.0  1147880044   \n",
              "1       1      306     3.5  1147868817   \n",
              "2       1      307     5.0  1147868828   \n",
              "3       1      665     5.0  1147878820   \n",
              "4       1      899     3.5  1147868510   \n",
              "5       1     1088     4.0  1147868495   \n",
              "6       1     1175     3.5  1147868826   \n",
              "7       1     1217     3.5  1147878326   \n",
              "8       1     1237     5.0  1147868839   \n",
              "9       1     1250     4.0  1147868414   \n",
              "\n",
              "                                              title  \\\n",
              "0                               Pulp Fiction (1994)   \n",
              "1  Three Colors: Red (Trois couleurs: Rouge) (1994)   \n",
              "2  Three Colors: Blue (Trois couleurs: Bleu) (1993)   \n",
              "3                                Underground (1995)   \n",
              "4                        Singin' in the Rain (1952)   \n",
              "5                              Dirty Dancing (1987)   \n",
              "6                               Delicatessen (1991)   \n",
              "7                                        Ran (1985)   \n",
              "8   Seventh Seal, The (Sjunde inseglet, Det) (1957)   \n",
              "9              Bridge on the River Kwai, The (1957)   \n",
              "\n",
              "                             genres  \n",
              "0  [Comedy, Crime, Drama, Thriller]  \n",
              "1                           [Drama]  \n",
              "2                           [Drama]  \n",
              "3              [Comedy, Drama, War]  \n",
              "4        [Comedy, Musical, Romance]  \n",
              "5         [Drama, Musical, Romance]  \n",
              "6          [Comedy, Drama, Romance]  \n",
              "7                      [Drama, War]  \n",
              "8                           [Drama]  \n",
              "9           [Adventure, Drama, War]  "
            ]
          },
          "execution_count": 256,
          "metadata": {},
          "output_type": "execute_result"
        }
      ],
      "source": [
        "merged.head(10)"
      ]
    },
    {
      "cell_type": "markdown",
      "id": "41dbb6f5-91d2-4261-be3e-06aacdd9683d",
      "metadata": {
        "id": "41dbb6f5-91d2-4261-be3e-06aacdd9683d"
      },
      "source": [
        "***"
      ]
    },
    {
      "cell_type": "markdown",
      "id": "f772b638-9e3f-474a-8155-ad4c6e38dbc9",
      "metadata": {
        "id": "f772b638-9e3f-474a-8155-ad4c6e38dbc9"
      },
      "source": [
        "## Exploratory Data Analysis and Data Visualisation"
      ]
    },
    {
      "cell_type": "markdown",
      "id": "cf38b59a-bd7b-4c07-96ab-05a38ca0d695",
      "metadata": {
        "id": "cf38b59a-bd7b-4c07-96ab-05a38ca0d695"
      },
      "source": [
        "### Overview and statistics"
      ]
    },
    {
      "cell_type": "code",
      "execution_count": null,
      "id": "849bf699-d861-4d6b-9303-2720ecc51925",
      "metadata": {
        "id": "849bf699-d861-4d6b-9303-2720ecc51925",
        "outputId": "061f5cd6-070f-432e-df15-0e39994a683c"
      },
      "outputs": [
        {
          "name": "stdout",
          "output_type": "stream",
          "text": [
            "<class 'pandas.core.frame.DataFrame'>\n",
            "RangeIndex: 100000 entries, 0 to 99999\n",
            "Data columns (total 6 columns):\n",
            " #   Column     Non-Null Count   Dtype  \n",
            "---  ------     --------------   -----  \n",
            " 0   userId     100000 non-null  int64  \n",
            " 1   movieId    100000 non-null  int64  \n",
            " 2   rating     100000 non-null  float64\n",
            " 3   timestamp  100000 non-null  int64  \n",
            " 4   title      100000 non-null  object \n",
            " 5   genres     100000 non-null  object \n",
            "dtypes: float64(1), int64(3), object(2)\n",
            "memory usage: 4.6+ MB\n"
          ]
        }
      ],
      "source": [
        "merged.info()"
      ]
    },
    {
      "cell_type": "code",
      "execution_count": null,
      "id": "96e53597-7574-4397-b1eb-4c27f158aef8",
      "metadata": {
        "id": "96e53597-7574-4397-b1eb-4c27f158aef8",
        "outputId": "1e99d407-e8e7-4b60-b0ec-2f30ccf3b66a"
      },
      "outputs": [
        {
          "data": {
            "text/html": [
              "<div>\n",
              "<style scoped>\n",
              "    .dataframe tbody tr th:only-of-type {\n",
              "        vertical-align: middle;\n",
              "    }\n",
              "\n",
              "    .dataframe tbody tr th {\n",
              "        vertical-align: top;\n",
              "    }\n",
              "\n",
              "    .dataframe thead th {\n",
              "        text-align: right;\n",
              "    }\n",
              "</style>\n",
              "<table border=\"1\" class=\"dataframe\">\n",
              "  <thead>\n",
              "    <tr style=\"text-align: right;\">\n",
              "      <th></th>\n",
              "      <th>userId</th>\n",
              "      <th>movieId</th>\n",
              "      <th>rating</th>\n",
              "      <th>timestamp</th>\n",
              "    </tr>\n",
              "  </thead>\n",
              "  <tbody>\n",
              "    <tr>\n",
              "      <th>count</th>\n",
              "      <td>100000.000000</td>\n",
              "      <td>100000.000000</td>\n",
              "      <td>100000.000000</td>\n",
              "      <td>1.000000e+05</td>\n",
              "    </tr>\n",
              "    <tr>\n",
              "      <th>mean</th>\n",
              "      <td>387.633370</td>\n",
              "      <td>20861.816250</td>\n",
              "      <td>3.585315</td>\n",
              "      <td>1.202491e+09</td>\n",
              "    </tr>\n",
              "    <tr>\n",
              "      <th>std</th>\n",
              "      <td>220.610909</td>\n",
              "      <td>38208.379944</td>\n",
              "      <td>1.041537</td>\n",
              "      <td>2.348316e+08</td>\n",
              "    </tr>\n",
              "    <tr>\n",
              "      <th>min</th>\n",
              "      <td>1.000000</td>\n",
              "      <td>1.000000</td>\n",
              "      <td>0.500000</td>\n",
              "      <td>8.281634e+08</td>\n",
              "    </tr>\n",
              "    <tr>\n",
              "      <th>25%</th>\n",
              "      <td>187.000000</td>\n",
              "      <td>1089.000000</td>\n",
              "      <td>3.000000</td>\n",
              "      <td>9.853806e+08</td>\n",
              "    </tr>\n",
              "    <tr>\n",
              "      <th>50%</th>\n",
              "      <td>406.000000</td>\n",
              "      <td>2719.000000</td>\n",
              "      <td>4.000000</td>\n",
              "      <td>1.170491e+09</td>\n",
              "    </tr>\n",
              "    <tr>\n",
              "      <th>75%</th>\n",
              "      <td>572.000000</td>\n",
              "      <td>8370.000000</td>\n",
              "      <td>4.000000</td>\n",
              "      <td>1.439794e+09</td>\n",
              "    </tr>\n",
              "    <tr>\n",
              "      <th>max</th>\n",
              "      <td>757.000000</td>\n",
              "      <td>206272.000000</td>\n",
              "      <td>5.000000</td>\n",
              "      <td>1.574254e+09</td>\n",
              "    </tr>\n",
              "  </tbody>\n",
              "</table>\n",
              "</div>"
            ],
            "text/plain": [
              "              userId        movieId         rating     timestamp\n",
              "count  100000.000000  100000.000000  100000.000000  1.000000e+05\n",
              "mean      387.633370   20861.816250       3.585315  1.202491e+09\n",
              "std       220.610909   38208.379944       1.041537  2.348316e+08\n",
              "min         1.000000       1.000000       0.500000  8.281634e+08\n",
              "25%       187.000000    1089.000000       3.000000  9.853806e+08\n",
              "50%       406.000000    2719.000000       4.000000  1.170491e+09\n",
              "75%       572.000000    8370.000000       4.000000  1.439794e+09\n",
              "max       757.000000  206272.000000       5.000000  1.574254e+09"
            ]
          },
          "execution_count": 260,
          "metadata": {},
          "output_type": "execute_result"
        }
      ],
      "source": [
        "merged.describe()"
      ]
    },
    {
      "cell_type": "markdown",
      "id": "4dfc60c7-5a6c-4a9d-b86b-8d60231be7d5",
      "metadata": {
        "id": "4dfc60c7-5a6c-4a9d-b86b-8d60231be7d5"
      },
      "source": [
        "### Data visualisation"
      ]
    },
    {
      "cell_type": "code",
      "execution_count": null,
      "id": "d20935a7-58b6-42e5-a7f0-af387e03152c",
      "metadata": {
        "id": "d20935a7-58b6-42e5-a7f0-af387e03152c",
        "outputId": "08014737-8185-4f19-a7aa-e2a687810110"
      },
      "outputs": [
        {
          "data": {
            "image/png": "[encoded data removed]",
            "text/plain": [
              "<Figure size 1200x600 with 1 Axes>"
            ]
          },
          "metadata": {},
          "output_type": "display_data"
        }
      ],
      "source": [
        "import seaborn as sns\n",
        "import matplotlib.pyplot as plt\n",
        "from collections import Counter\n",
        "\n",
        "genre_counts = Counter([genre for genres in movies['genres'] for genre in genres])\n",
        "plt.figure(figsize=(12, 6))\n",
        "sns.barplot(x=list(genre_counts.keys()), y=list(genre_counts.values()))\n",
        "plt.title(\"Number of Movies per Genre\")\n",
        "plt.xticks(rotation=45)\n",
        "plt.show()"
      ]
    },
    {
      "cell_type": "code",
      "execution_count": null,
      "id": "00d8426c-f595-48ac-85f1-687d7c65e5eb",
      "metadata": {
        "id": "00d8426c-f595-48ac-85f1-687d7c65e5eb",
        "outputId": "57baa315-5269-456b-9d9f-ab07666d34ae"
      },
      "outputs": [
        {
          "data": {
            "image/png": "[encoded data removed]",
            "text/plain": [
              "<Figure size 1200x600 with 1 Axes>"
            ]
          },
          "metadata": {},
          "output_type": "display_data"
        }
      ],
      "source": [
        "plt.figure(figsize=(12, 6))\n",
        "sns.histplot(ratings['rating'], bins=10, kde=True)\n",
        "plt.title('Distribution of Ratings')\n",
        "plt.xlabel('Rating')\n",
        "plt.ylabel('Frequency')\n",
        "plt.show()"
      ]
    },
    {
      "cell_type": "code",
      "execution_count": null,
      "id": "6d5ba5bc-1bdd-4aa4-b03d-37a62fb3e513",
      "metadata": {
        "id": "6d5ba5bc-1bdd-4aa4-b03d-37a62fb3e513",
        "outputId": "71c9384b-8f2b-454e-c545-ec94b289b6d1"
      },
      "outputs": [
        {
          "data": {
            "image/png": "[encoded data removed]",
            "text/plain": [
              "<Figure size 1200x600 with 1 Axes>"
            ]
          },
          "metadata": {},
          "output_type": "display_data"
        }
      ],
      "source": [
        "movie_ratings_count = ratings['movieId'].value_counts().head(10)\n",
        "plt.figure(figsize=(12,6))\n",
        "sns.barplot(x=movie_ratings_count.index, y=movie_ratings_count.values)\n",
        "plt.title(\"Top 10 Most Rated Movies\")\n",
        "plt.xlabel(\"Movie ID\")\n",
        "plt.ylabel(\"Number of Ratings\")\n",
        "plt.show()"
      ]
    },
    {
      "cell_type": "code",
      "execution_count": null,
      "id": "015042af-83d4-4f9e-8644-b209aa123637",
      "metadata": {
        "id": "015042af-83d4-4f9e-8644-b209aa123637",
        "outputId": "3a1bb97e-4648-454d-c88f-2de8f6d00c77"
      },
      "outputs": [
        {
          "data": {
            "image/png": "[encoded data removed]",
            "text/plain": [
              "<Figure size 1200x600 with 1 Axes>"
            ]
          },
          "metadata": {},
          "output_type": "display_data"
        }
      ],
      "source": [
        "genre_ratings = {genre: ratings[ratings['movieId'].isin(movies[movies['genres'].apply(lambda x: genre in x)]['movieId'])]['rating'].mean() for genre in genre_counts.keys()}\n",
        "plt.figure(figsize=(12,6))\n",
        "sns.barplot(x=list(genre_ratings.keys()), y=list(genre_ratings.values()))\n",
        "plt.title(\"Average Rating by Genre\")\n",
        "plt.xticks(rotation=45)\n",
        "plt.show()"
      ]
    },
    {
      "cell_type": "markdown",
      "id": "6cb4fd7f-34ef-4be1-aa84-db6edef4e42e",
      "metadata": {
        "id": "6cb4fd7f-34ef-4be1-aa84-db6edef4e42e"
      },
      "source": [
        "***"
      ]
    },
    {
      "cell_type": "markdown",
      "id": "b9a41556-041a-41a2-8b8d-09fa5f753c69",
      "metadata": {
        "id": "b9a41556-041a-41a2-8b8d-09fa5f753c69"
      },
      "source": [
        "## Model Creation and Testing"
      ]
    },
    {
      "cell_type": "markdown",
      "id": "07e354ef-26f3-4737-8d69-552b1241ffd5",
      "metadata": {
        "id": "07e354ef-26f3-4737-8d69-552b1241ffd5"
      },
      "source": [
        "### Collaborative Filtering using Singular Value Decomposition (SVD) and Cosine Similarity"
      ]
    },
    {
      "cell_type": "markdown",
      "id": "6a9434c7-9f12-49b6-88fb-c61f21febae6",
      "metadata": {
        "id": "6a9434c7-9f12-49b6-88fb-c61f21febae6"
      },
      "source": [
        "#### Importing the required libraries and modules"
      ]
    },
    {
      "cell_type": "code",
      "execution_count": null,
      "id": "fecbd83e-e9ce-43af-a5be-631d8f4d3082",
      "metadata": {
        "id": "fecbd83e-e9ce-43af-a5be-631d8f4d3082"
      },
      "outputs": [],
      "source": [
        "from sklearn.decomposition import TruncatedSVD\n",
        "from sklearn.metrics.pairwise import cosine_similarity\n",
        "from scipy.sparse import csr_matrix"
      ]
    },
    {
      "cell_type": "markdown",
      "id": "b24af4c9-c4f7-4860-af1d-4c2d03432168",
      "metadata": {
        "id": "b24af4c9-c4f7-4860-af1d-4c2d03432168"
      },
      "source": [
        "#### Creating a user-item matrix for collaborative filtering"
      ]
    },
    {
      "cell_type": "code",
      "execution_count": null,
      "id": "b48d27f5-708e-4e05-83d0-f9f8e153626a",
      "metadata": {
        "id": "b48d27f5-708e-4e05-83d0-f9f8e153626a",
        "outputId": "8d43e362-9b69-4f88-9dae-ace042ea1fb6"
      },
      "outputs": [
        {
          "data": {
            "text/html": [
              "<div>\n",
              "<style scoped>\n",
              "    .dataframe tbody tr th:only-of-type {\n",
              "        vertical-align: middle;\n",
              "    }\n",
              "\n",
              "    .dataframe tbody tr th {\n",
              "        vertical-align: top;\n",
              "    }\n",
              "\n",
              "    .dataframe thead th {\n",
              "        text-align: right;\n",
              "    }\n",
              "</style>\n",
              "<table border=\"1\" class=\"dataframe\">\n",
              "  <thead>\n",
              "    <tr style=\"text-align: right;\">\n",
              "      <th>movieId</th>\n",
              "      <th>1</th>\n",
              "      <th>2</th>\n",
              "      <th>3</th>\n",
              "      <th>4</th>\n",
              "      <th>5</th>\n",
              "      <th>6</th>\n",
              "      <th>7</th>\n",
              "      <th>8</th>\n",
              "      <th>9</th>\n",
              "      <th>10</th>\n",
              "      <th>...</th>\n",
              "      <th>204692</th>\n",
              "      <th>204698</th>\n",
              "      <th>204704</th>\n",
              "      <th>205054</th>\n",
              "      <th>205072</th>\n",
              "      <th>205106</th>\n",
              "      <th>205413</th>\n",
              "      <th>205499</th>\n",
              "      <th>205557</th>\n",
              "      <th>206272</th>\n",
              "    </tr>\n",
              "    <tr>\n",
              "      <th>userId</th>\n",
              "      <th></th>\n",
              "      <th></th>\n",
              "      <th></th>\n",
              "      <th></th>\n",
              "      <th></th>\n",
              "      <th></th>\n",
              "      <th></th>\n",
              "      <th></th>\n",
              "      <th></th>\n",
              "      <th></th>\n",
              "      <th></th>\n",
              "      <th></th>\n",
              "      <th></th>\n",
              "      <th></th>\n",
              "      <th></th>\n",
              "      <th></th>\n",
              "      <th></th>\n",
              "      <th></th>\n",
              "      <th></th>\n",
              "      <th></th>\n",
              "      <th></th>\n",
              "    </tr>\n",
              "  </thead>\n",
              "  <tbody>\n",
              "    <tr>\n",
              "      <th>1</th>\n",
              "      <td>0.0</td>\n",
              "      <td>0.0</td>\n",
              "      <td>0.0</td>\n",
              "      <td>0.0</td>\n",
              "      <td>0.0</td>\n",
              "      <td>0.0</td>\n",
              "      <td>0.0</td>\n",
              "      <td>0.0</td>\n",
              "      <td>0.0</td>\n",
              "      <td>0.0</td>\n",
              "      <td>...</td>\n",
              "      <td>0.0</td>\n",
              "      <td>0.0</td>\n",
              "      <td>0.0</td>\n",
              "      <td>0.0</td>\n",
              "      <td>0.0</td>\n",
              "      <td>0.0</td>\n",
              "      <td>0.0</td>\n",
              "      <td>0.0</td>\n",
              "      <td>0.0</td>\n",
              "      <td>0.0</td>\n",
              "    </tr>\n",
              "    <tr>\n",
              "      <th>2</th>\n",
              "      <td>3.5</td>\n",
              "      <td>0.0</td>\n",
              "      <td>0.0</td>\n",
              "      <td>0.0</td>\n",
              "      <td>0.0</td>\n",
              "      <td>0.0</td>\n",
              "      <td>0.0</td>\n",
              "      <td>0.0</td>\n",
              "      <td>0.0</td>\n",
              "      <td>0.0</td>\n",
              "      <td>...</td>\n",
              "      <td>0.0</td>\n",
              "      <td>0.0</td>\n",
              "      <td>0.0</td>\n",
              "      <td>0.0</td>\n",
              "      <td>0.0</td>\n",
              "      <td>0.0</td>\n",
              "      <td>0.0</td>\n",
              "      <td>0.0</td>\n",
              "      <td>0.0</td>\n",
              "      <td>0.0</td>\n",
              "    </tr>\n",
              "    <tr>\n",
              "      <th>3</th>\n",
              "      <td>4.0</td>\n",
              "      <td>0.0</td>\n",
              "      <td>0.0</td>\n",
              "      <td>0.0</td>\n",
              "      <td>0.0</td>\n",
              "      <td>0.0</td>\n",
              "      <td>0.0</td>\n",
              "      <td>0.0</td>\n",
              "      <td>0.0</td>\n",
              "      <td>0.0</td>\n",
              "      <td>...</td>\n",
              "      <td>0.0</td>\n",
              "      <td>0.0</td>\n",
              "      <td>0.0</td>\n",
              "      <td>0.0</td>\n",
              "      <td>0.0</td>\n",
              "      <td>0.0</td>\n",
              "      <td>0.0</td>\n",
              "      <td>0.0</td>\n",
              "      <td>0.0</td>\n",
              "      <td>0.0</td>\n",
              "    </tr>\n",
              "    <tr>\n",
              "      <th>4</th>\n",
              "      <td>3.0</td>\n",
              "      <td>0.0</td>\n",
              "      <td>0.0</td>\n",
              "      <td>0.0</td>\n",
              "      <td>0.0</td>\n",
              "      <td>0.0</td>\n",
              "      <td>0.0</td>\n",
              "      <td>0.0</td>\n",
              "      <td>0.0</td>\n",
              "      <td>0.0</td>\n",
              "      <td>...</td>\n",
              "      <td>0.0</td>\n",
              "      <td>0.0</td>\n",
              "      <td>0.0</td>\n",
              "      <td>0.0</td>\n",
              "      <td>0.0</td>\n",
              "      <td>0.0</td>\n",
              "      <td>0.0</td>\n",
              "      <td>0.0</td>\n",
              "      <td>0.0</td>\n",
              "      <td>0.0</td>\n",
              "    </tr>\n",
              "    <tr>\n",
              "      <th>5</th>\n",
              "      <td>4.0</td>\n",
              "      <td>0.0</td>\n",
              "      <td>0.0</td>\n",
              "      <td>0.0</td>\n",
              "      <td>0.0</td>\n",
              "      <td>0.0</td>\n",
              "      <td>0.0</td>\n",
              "      <td>0.0</td>\n",
              "      <td>0.0</td>\n",
              "      <td>0.0</td>\n",
              "      <td>...</td>\n",
              "      <td>0.0</td>\n",
              "      <td>0.0</td>\n",
              "      <td>0.0</td>\n",
              "      <td>0.0</td>\n",
              "      <td>0.0</td>\n",
              "      <td>0.0</td>\n",
              "      <td>0.0</td>\n",
              "      <td>0.0</td>\n",
              "      <td>0.0</td>\n",
              "      <td>0.0</td>\n",
              "    </tr>\n",
              "    <tr>\n",
              "      <th>...</th>\n",
              "      <td>...</td>\n",
              "      <td>...</td>\n",
              "      <td>...</td>\n",
              "      <td>...</td>\n",
              "      <td>...</td>\n",
              "      <td>...</td>\n",
              "      <td>...</td>\n",
              "      <td>...</td>\n",
              "      <td>...</td>\n",
              "      <td>...</td>\n",
              "      <td>...</td>\n",
              "      <td>...</td>\n",
              "      <td>...</td>\n",
              "      <td>...</td>\n",
              "      <td>...</td>\n",
              "      <td>...</td>\n",
              "      <td>...</td>\n",
              "      <td>...</td>\n",
              "      <td>...</td>\n",
              "      <td>...</td>\n",
              "      <td>...</td>\n",
              "    </tr>\n",
              "    <tr>\n",
              "      <th>753</th>\n",
              "      <td>0.0</td>\n",
              "      <td>0.0</td>\n",
              "      <td>0.0</td>\n",
              "      <td>0.0</td>\n",
              "      <td>0.0</td>\n",
              "      <td>0.0</td>\n",
              "      <td>0.0</td>\n",
              "      <td>0.0</td>\n",
              "      <td>0.0</td>\n",
              "      <td>0.0</td>\n",
              "      <td>...</td>\n",
              "      <td>0.0</td>\n",
              "      <td>0.0</td>\n",
              "      <td>0.0</td>\n",
              "      <td>0.0</td>\n",
              "      <td>0.0</td>\n",
              "      <td>0.0</td>\n",
              "      <td>0.0</td>\n",
              "      <td>0.0</td>\n",
              "      <td>0.0</td>\n",
              "      <td>0.0</td>\n",
              "    </tr>\n",
              "    <tr>\n",
              "      <th>754</th>\n",
              "      <td>0.0</td>\n",
              "      <td>0.0</td>\n",
              "      <td>0.0</td>\n",
              "      <td>0.0</td>\n",
              "      <td>0.0</td>\n",
              "      <td>5.0</td>\n",
              "      <td>0.0</td>\n",
              "      <td>0.0</td>\n",
              "      <td>0.0</td>\n",
              "      <td>3.0</td>\n",
              "      <td>...</td>\n",
              "      <td>0.0</td>\n",
              "      <td>0.0</td>\n",
              "      <td>0.0</td>\n",
              "      <td>0.0</td>\n",
              "      <td>0.0</td>\n",
              "      <td>0.0</td>\n",
              "      <td>0.0</td>\n",
              "      <td>0.0</td>\n",
              "      <td>0.0</td>\n",
              "      <td>0.0</td>\n",
              "    </tr>\n",
              "    <tr>\n",
              "      <th>755</th>\n",
              "      <td>0.0</td>\n",
              "      <td>0.0</td>\n",
              "      <td>0.0</td>\n",
              "      <td>0.0</td>\n",
              "      <td>0.0</td>\n",
              "      <td>0.0</td>\n",
              "      <td>0.0</td>\n",
              "      <td>0.0</td>\n",
              "      <td>0.0</td>\n",
              "      <td>0.0</td>\n",
              "      <td>...</td>\n",
              "      <td>0.0</td>\n",
              "      <td>0.0</td>\n",
              "      <td>0.0</td>\n",
              "      <td>0.0</td>\n",
              "      <td>0.0</td>\n",
              "      <td>0.0</td>\n",
              "      <td>0.0</td>\n",
              "      <td>0.0</td>\n",
              "      <td>0.0</td>\n",
              "      <td>0.0</td>\n",
              "    </tr>\n",
              "    <tr>\n",
              "      <th>756</th>\n",
              "      <td>3.0</td>\n",
              "      <td>0.0</td>\n",
              "      <td>0.0</td>\n",
              "      <td>0.0</td>\n",
              "      <td>0.0</td>\n",
              "      <td>4.0</td>\n",
              "      <td>0.0</td>\n",
              "      <td>0.0</td>\n",
              "      <td>0.0</td>\n",
              "      <td>3.5</td>\n",
              "      <td>...</td>\n",
              "      <td>0.0</td>\n",
              "      <td>0.0</td>\n",
              "      <td>0.0</td>\n",
              "      <td>0.0</td>\n",
              "      <td>0.0</td>\n",
              "      <td>0.0</td>\n",
              "      <td>0.0</td>\n",
              "      <td>0.0</td>\n",
              "      <td>0.0</td>\n",
              "      <td>0.0</td>\n",
              "    </tr>\n",
              "    <tr>\n",
              "      <th>757</th>\n",
              "      <td>3.0</td>\n",
              "      <td>3.0</td>\n",
              "      <td>0.0</td>\n",
              "      <td>0.0</td>\n",
              "      <td>0.0</td>\n",
              "      <td>0.0</td>\n",
              "      <td>0.0</td>\n",
              "      <td>0.0</td>\n",
              "      <td>0.0</td>\n",
              "      <td>0.0</td>\n",
              "      <td>...</td>\n",
              "      <td>0.0</td>\n",
              "      <td>0.0</td>\n",
              "      <td>0.0</td>\n",
              "      <td>0.0</td>\n",
              "      <td>0.0</td>\n",
              "      <td>0.0</td>\n",
              "      <td>0.0</td>\n",
              "      <td>0.0</td>\n",
              "      <td>0.0</td>\n",
              "      <td>0.0</td>\n",
              "    </tr>\n",
              "  </tbody>\n",
              "</table>\n",
              "<p>757 rows × 9786 columns</p>\n",
              "</div>"
            ],
            "text/plain": [
              "movieId  1       2       3       4       5       6       7       8       \\\n",
              "userId                                                                    \n",
              "1           0.0     0.0     0.0     0.0     0.0     0.0     0.0     0.0   \n",
              "2           3.5     0.0     0.0     0.0     0.0     0.0     0.0     0.0   \n",
              "3           4.0     0.0     0.0     0.0     0.0     0.0     0.0     0.0   \n",
              "4           3.0     0.0     0.0     0.0     0.0     0.0     0.0     0.0   \n",
              "5           4.0     0.0     0.0     0.0     0.0     0.0     0.0     0.0   \n",
              "...         ...     ...     ...     ...     ...     ...     ...     ...   \n",
              "753         0.0     0.0     0.0     0.0     0.0     0.0     0.0     0.0   \n",
              "754         0.0     0.0     0.0     0.0     0.0     5.0     0.0     0.0   \n",
              "755         0.0     0.0     0.0     0.0     0.0     0.0     0.0     0.0   \n",
              "756         3.0     0.0     0.0     0.0     0.0     4.0     0.0     0.0   \n",
              "757         3.0     3.0     0.0     0.0     0.0     0.0     0.0     0.0   \n",
              "\n",
              "movieId  9       10      ...  204692  204698  204704  205054  205072  205106  \\\n",
              "userId                   ...                                                   \n",
              "1           0.0     0.0  ...     0.0     0.0     0.0     0.0     0.0     0.0   \n",
              "2           0.0     0.0  ...     0.0     0.0     0.0     0.0     0.0     0.0   \n",
              "3           0.0     0.0  ...     0.0     0.0     0.0     0.0     0.0     0.0   \n",
              "4           0.0     0.0  ...     0.0     0.0     0.0     0.0     0.0     0.0   \n",
              "5           0.0     0.0  ...     0.0     0.0     0.0     0.0     0.0     0.0   \n",
              "...         ...     ...  ...     ...     ...     ...     ...     ...     ...   \n",
              "753         0.0     0.0  ...     0.0     0.0     0.0     0.0     0.0     0.0   \n",
              "754         0.0     3.0  ...     0.0     0.0     0.0     0.0     0.0     0.0   \n",
              "755         0.0     0.0  ...     0.0     0.0     0.0     0.0     0.0     0.0   \n",
              "756         0.0     3.5  ...     0.0     0.0     0.0     0.0     0.0     0.0   \n",
              "757         0.0     0.0  ...     0.0     0.0     0.0     0.0     0.0     0.0   \n",
              "\n",
              "movieId  205413  205499  205557  206272  \n",
              "userId                                   \n",
              "1           0.0     0.0     0.0     0.0  \n",
              "2           0.0     0.0     0.0     0.0  \n",
              "3           0.0     0.0     0.0     0.0  \n",
              "4           0.0     0.0     0.0     0.0  \n",
              "5           0.0     0.0     0.0     0.0  \n",
              "...         ...     ...     ...     ...  \n",
              "753         0.0     0.0     0.0     0.0  \n",
              "754         0.0     0.0     0.0     0.0  \n",
              "755         0.0     0.0     0.0     0.0  \n",
              "756         0.0     0.0     0.0     0.0  \n",
              "757         0.0     0.0     0.0     0.0  \n",
              "\n",
              "[757 rows x 9786 columns]"
            ]
          },
          "execution_count": 272,
          "metadata": {},
          "output_type": "execute_result"
        }
      ],
      "source": [
        "user_movie_matrix = ratings.pivot(index='userId', columns='movieId', values='rating').fillna(0)\n",
        "user_movie_matrix"
      ]
    },
    {
      "cell_type": "markdown",
      "id": "8f99d72e-ac10-4d26-b03d-082dc71a182c",
      "metadata": {
        "id": "8f99d72e-ac10-4d26-b03d-082dc71a182c"
      },
      "source": [
        "#### Converting the user-item matrix to a sparse matrix"
      ]
    },
    {
      "cell_type": "code",
      "execution_count": null,
      "id": "bba41e94-122e-48f8-b372-46ca4933b4c2",
      "metadata": {
        "id": "bba41e94-122e-48f8-b372-46ca4933b4c2"
      },
      "outputs": [],
      "source": [
        "sparse_matrix = csr_matrix(user_movie_matrix.values)"
      ]
    },
    {
      "cell_type": "markdown",
      "id": "f4da515f-f0bb-4954-b739-732c34a8377e",
      "metadata": {
        "id": "f4da515f-f0bb-4954-b739-732c34a8377e"
      },
      "source": [
        "#### Matrix factorisation using SVD"
      ]
    },
    {
      "cell_type": "code",
      "execution_count": null,
      "id": "1398a2c2-29d0-4d3b-b536-dee2599115a7",
      "metadata": {
        "id": "1398a2c2-29d0-4d3b-b536-dee2599115a7"
      },
      "outputs": [],
      "source": [
        "svd = TruncatedSVD(n_components = 50, random_state = 40)\n",
        "matrix = svd.fit_transform(sparse_matrix)"
      ]
    },
    {
      "cell_type": "markdown",
      "id": "664c410e-443d-4949-8902-ebb230c7f50b",
      "metadata": {
        "id": "664c410e-443d-4949-8902-ebb230c7f50b"
      },
      "source": [
        "#### Getting recommendations on the basis of cosine similarity"
      ]
    },
    {
      "cell_type": "code",
      "execution_count": null,
      "id": "15ff5682-0c47-4b41-b6df-755a08b398de",
      "metadata": {
        "id": "15ff5682-0c47-4b41-b6df-755a08b398de",
        "outputId": "f3963928-1502-4f15-afcf-594d82636627"
      },
      "outputs": [
        {
          "name": "stdout",
          "output_type": "stream",
          "text": [
            "Recommendations for user 1:\n",
            " 0                                       Toy Story (1995)\n",
            "55                        Kids of the Round Table (1995)\n",
            "70                                      Fair Game (1995)\n",
            "116                                  If Lucy Fell (1996)\n",
            "359                                Lion King, The (1994)\n",
            "381                                        S.F.W. (1994)\n",
            "598               Candyman: Farewell to the Flesh (1995)\n",
            "629                                        Girl 6 (1996)\n",
            "698                           Of Love and Shadows (1994)\n",
            "826    Story of Xinghua, The (Xinghua san yue tian) (...\n",
            "Name: title, dtype: object\n"
          ]
        }
      ],
      "source": [
        "def svd_recommend(user_id, n_recommendations=10):\n",
        "    user_idx = user_id - 1\n",
        "    similarity = cosine_similarity([matrix[user_idx]], matrix)[0]\n",
        "    similar_users = similarity.argsort()[-n_recommendations:]\n",
        "\n",
        "    weighted_ratings = {}\n",
        "    for user in similar_users:\n",
        "        for movie_id, rating in user_movie_matrix.iloc[user].items():\n",
        "            if rating > 0:\n",
        "                if movie_id not in weighted_ratings:\n",
        "                    weighted_ratings[movie_id] = 0\n",
        "                weighted_ratings[movie_id] += similarity[user] * rating\n",
        "\n",
        "    recommended_movies = user_movie_matrix.columns[similar_users].tolist()\n",
        "    return movies[movies['movieId'].isin(recommended_movies)]['title']\n",
        "\n",
        "print(\"Recommendations for user 1:\\n\", svd_recommend(1))"
      ]
    },
    {
      "cell_type": "markdown",
      "id": "12999e9e-acde-4cb1-a89a-a61deec45b0b",
      "metadata": {
        "id": "12999e9e-acde-4cb1-a89a-a61deec45b0b"
      },
      "source": [
        "***"
      ]
    },
    {
      "cell_type": "markdown",
      "id": "0379c791-1e92-45b2-b6c0-fbcd81592a64",
      "metadata": {
        "id": "0379c791-1e92-45b2-b6c0-fbcd81592a64"
      },
      "source": [
        "### Content-Based Filtering using Genres with Term Frequency - Inverse Document Frequency (TF-IDF)"
      ]
    },
    {
      "cell_type": "markdown",
      "id": "e333c7fe-7fea-4809-a51f-b0715be701c5",
      "metadata": {
        "id": "e333c7fe-7fea-4809-a51f-b0715be701c5"
      },
      "source": [
        "#### Importing the required libraries and modules"
      ]
    },
    {
      "cell_type": "code",
      "execution_count": null,
      "id": "16aeed6a-6fe9-45b1-bf90-0a0af0abc3c7",
      "metadata": {
        "id": "16aeed6a-6fe9-45b1-bf90-0a0af0abc3c7"
      },
      "outputs": [],
      "source": [
        "from sklearn.feature_extraction.text import TfidfVectorizer\n",
        "from sklearn.metrics.pairwise import cosine_similarity\n",
        "import scipy.sparse as sp"
      ]
    },
    {
      "cell_type": "markdown",
      "id": "0591e8bf-9122-483e-a44c-e92d5e6a3cca",
      "metadata": {
        "id": "0591e8bf-9122-483e-a44c-e92d5e6a3cca"
      },
      "source": [
        "#### Combining genres into a single string to use TF-IDF"
      ]
    },
    {
      "cell_type": "code",
      "execution_count": null,
      "id": "e2b4f090-254d-4e4d-b3fa-297533d1a736",
      "metadata": {
        "id": "e2b4f090-254d-4e4d-b3fa-297533d1a736"
      },
      "outputs": [],
      "source": [
        "movies['genres'] = movies['genres'].apply(lambda x: ' '.join(x))"
      ]
    },
    {
      "cell_type": "markdown",
      "id": "7810eec3-0986-4b8d-ae4a-ddc54e449f9f",
      "metadata": {
        "id": "7810eec3-0986-4b8d-ae4a-ddc54e449f9f"
      },
      "source": [
        "#### TF-IDF vectorisation and creating sparse matrix"
      ]
    },
    {
      "cell_type": "code",
      "execution_count": null,
      "id": "d889b10d-3dc8-4796-aef2-584771f9f53a",
      "metadata": {
        "id": "d889b10d-3dc8-4796-aef2-584771f9f53a"
      },
      "outputs": [],
      "source": [
        "tfidf = TfidfVectorizer(stop_words='english')\n",
        "tfidf_matrix = tfidf.fit_transform(movies['genres'])"
      ]
    },
    {
      "cell_type": "markdown",
      "id": "b72fef95-2823-42ad-adeb-1ead956a7215",
      "metadata": {
        "id": "b72fef95-2823-42ad-adeb-1ead956a7215"
      },
      "source": [
        "#### Computing cosine similarity"
      ]
    },
    {
      "cell_type": "code",
      "execution_count": null,
      "id": "8d655ab4-3be2-4454-ac03-cb89df1423e4",
      "metadata": {
        "id": "8d655ab4-3be2-4454-ac03-cb89df1423e4"
      },
      "outputs": [],
      "source": [
        "cosine_sim = cosine_similarity(tfidf_matrix, tfidf_matrix, dense_output=False)"
      ]
    },
    {
      "cell_type": "markdown",
      "id": "a2435360-b4c4-4728-84b9-af3e604e15bf",
      "metadata": {
        "id": "a2435360-b4c4-4728-84b9-af3e604e15bf"
      },
      "source": [
        "#### Getting recommendations on the basis of cosine similarity"
      ]
    },
    {
      "cell_type": "code",
      "execution_count": null,
      "id": "eb3706a8-59fa-40e4-a783-4a34f2c7b1f7",
      "metadata": {
        "id": "eb3706a8-59fa-40e4-a783-4a34f2c7b1f7",
        "outputId": "254c26e6-ba13-4047-ae76-bffdbae0100b"
      },
      "outputs": [
        {
          "name": "stdout",
          "output_type": "stream",
          "text": [
            "Recommendations for movie 1:\n",
            "1. My Best Friend's Girl (2008)\n",
            "2. Brain Drain (2009)\n",
            "3. Mr. Music (1950)\n",
            "4. Carnival in Flanders (La kermesse héroïque) (1935)\n",
            "5. There's Something About Mary (1998)\n",
            "6. Kiki, Love to Love (2016)\n",
            "7. Show Business (1944)\n",
            "8. The Perfect Specimen (1937)\n",
            "9. You Can't Take It with You (1938)\n",
            "10. Tammy Tell Me True (1961)\n",
            "11. Divorce of Lady X, The (1938)\n"
          ]
        }
      ],
      "source": [
        "def content_based_recommend(movie_id, n_recommendations=10):\n",
        "    similar_scores = cosine_sim[movie_id]\n",
        "    similar_movies = similar_scores.toarray().flatten()\n",
        "    similar_movies_index = similar_movies.argsort()[-n_recommendations-1:][::-1]\n",
        "    recommended_movie_titles = movies.iloc[similar_movies_index]['title'].tolist()\n",
        "\n",
        "    return recommended_movie_titles\n",
        "\n",
        "recommended_movies = content_based_recommend(movie_id=2, n_recommendations=10)\n",
        "\n",
        "print(\"Recommendations for movie 1:\")\n",
        "for idx, movie in enumerate(recommended_movies, 1):\n",
        "    print(f\"{idx}. {movie}\")"
      ]
    },
    {
      "cell_type": "markdown",
      "id": "fd8564a7-ab02-4325-a9ef-0a07366f7196",
      "metadata": {
        "id": "fd8564a7-ab02-4325-a9ef-0a07366f7196"
      },
      "source": [
        "***"
      ]
    }
  ],
  "metadata": {
    "kernelspec": {
      "display_name": "Python 3 (ipykernel)",
      "language": "python",
      "name": "python3"
    },
    "language_info": {
      "codemirror_mode": {
        "name": "ipython",
        "version": 3
      },
      "file_extension": ".py",
      "mimetype": "text/x-python",
      "name": "python",
      "nbconvert_exporter": "python",
      "pygments_lexer": "ipython3",
      "version": "3.12.4"
    },
    "colab": {
      "provenance": [],
      "include_colab_link": true
    }
  },
  "nbformat": 4,
  "nbformat_minor": 5
}
